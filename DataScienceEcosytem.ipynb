{
  "metadata": {
    "kernelspec": {
      "name": "xpython",
      "display_name": "Python 3.13 (XPython)",
      "language": "python"
    },
    "language_info": {
      "file_extension": ".py",
      "mimetype": "text/x-python",
      "name": "python",
      "version": "3.13.1"
    }
  },
  "nbformat_minor": 5,
  "nbformat": 4,
  "cells": [
    {
      "id": "e234e018-9315-40bc-beeb-fe01fd95dcee",
      "cell_type": "markdown",
      "source": "# Data Science Tools and Ecosystem",
      "metadata": {}
    },
    {
      "id": "cb029a85-3db6-45f4-8be5-8b4ecfed9872",
      "cell_type": "markdown",
      "source": "## En este cuaderno, se resumen las herramientas y ecosistemas de ciencia de datos.",
      "metadata": {}
    },
    {
      "id": "66144a05-3473-418f-85bb-18a312491b66",
      "cell_type": "markdown",
      "source": "### Algunos de los lenguajes populares que utilizan los científicos de datos son:\n1. R\n2. Python\n3. Julia",
      "metadata": {}
    },
    {
      "id": "a5e51a62-e30e-4538-8541-5da0931d6f09",
      "cell_type": "markdown",
      "source": "### Algunas de las bibliotecas comúnmente utilizadas por los científicos de datos incluyen:\n1. Pandas\n2. Numpy\n3. Scipy",
      "metadata": {}
    },
    {
      "id": "49ec5d5d-6c62-4d66-896a-dfed3cc050fa",
      "cell_type": "markdown",
      "source": "| Herramientas de Ciencia de Datos |\n| --- |\n",
      "metadata": {}
    },
    {
      "id": "768ed2d4-e622-4eff-92b3-40c74654b3b6",
      "cell_type": "markdown",
      "source": "### A continuación, se presentan algunos ejemplos de evaluación de expresiones aritméticas en Python",
      "metadata": {}
    },
    {
      "id": "77e187f3-1e03-4982-b721-a29a90d7eb98",
      "cell_type": "code",
      "source": "#Esta es una expresión aritmética simple para multiplicar y luego sumar enteros\n(3*4)+5 ",
      "metadata": {
        "trusted": true
      },
      "outputs": [
        {
          "execution_count": 16,
          "output_type": "execute_result",
          "data": {
            "text/plain": "17"
          },
          "metadata": {}
        }
      ],
      "execution_count": 16
    },
    {
      "id": "196252bf-f52a-4935-9c50-d0a020354b87",
      "cell_type": "code",
      "source": "#Valor de la variable en minutos y minutos que tiene una hora\nminut = 200\nh = 60\n\n#Esto convertirá 200 minutos a horas dividiendo por 60\ntotal= minut /  h \n\n#impresion de resultado\nprint(\"El total de horas que hay en 200 minutos es:\", round(total))",
      "metadata": {
        "trusted": true
      },
      "outputs": [
        {
          "name": "stdout",
          "output_type": "stream",
          "text": "El total de horas que hay en 200 minutos es: 3\n"
        }
      ],
      "execution_count": 15
    },
    {
      "id": "193dff18-0ae9-4465-ac38-e07af0ef63ae",
      "cell_type": "markdown",
      "source": "## <b>Objetivos:</b>\n### Listar lenguajes populares para Ciencia de Datos\n- SQL\n- R\n- Python\n- Java\n- C++\n- Julia\n- Javascript\n- Scala\n",
      "metadata": {}
    },
    {
      "id": "b8ddb023-4149-4ce7-b480-96ef2cd129df",
      "cell_type": "markdown",
      "source": "## Autor:\nDuvian Arango",
      "metadata": {}
    }
  ]
}