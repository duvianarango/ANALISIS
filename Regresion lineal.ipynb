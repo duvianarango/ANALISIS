{
 "cells": [
  {
   "cell_type": "code",
   "execution_count": 163,
   "id": "e8e262d5-ddf3-4865-977e-d242fda5ecb3",
   "metadata": {},
   "outputs": [
    {
     "ename": "SyntaxError",
     "evalue": "invalid syntax (578192123.py, line 18)",
     "output_type": "error",
     "traceback": [
      "\u001b[1;36m  Cell \u001b[1;32mIn[163], line 18\u001b[1;36m\u001b[0m\n\u001b[1;33m    a de datos en python y lo cargamos en la variable datos\u001b[0m\n\u001b[1;37m      ^\u001b[0m\n\u001b[1;31mSyntaxError\u001b[0m\u001b[1;31m:\u001b[0m invalid syntax\n"
     ]
    }
   ],
   "source": [
    "#Exportacion de las librerias\n",
    "import pandas as pd \n",
    "import numpy as np\n",
    "import seaborn as sns\n",
    "import matplotlib.pyplot as plt\n",
    "\n",
    "\n",
    "#librerias para implementar modelos de ciencia de datos\n",
    "from sklearn.metrics import mean_squared_error, r2_score\n",
    "from sklearn import metrics\n",
    "from sklearn.model_selection import train_test_split\n",
    "from sklearn.linear_model import LinearRegression\n",
    "from sklearn.metrics import classification_report, confusion_matrix\n",
    "from sklearn.preprocessing import OneHotEncoder\n",
    "\n",
    "\n",
    "#lecturfrom sklearn.metrics import mean_squared_error, r2_score\n",
    "a de datos en python y lo cargamos en la variable datos\n",
    "datos = pd.read_csv('C:/Users/usuario/ANALISIS DE DATOS/Cardetailsv3.csv')\n",
    "\n",
    "#realizamos la lectura de los datos para el analisis exploratorio\n",
    "datos.head(50)"
   ]
  },
  {
   "cell_type": "code",
   "execution_count": 5,
   "id": "44fe0383-ec88-4d73-ac24-3fda34bf3a9e",
   "metadata": {},
   "outputs": [
    {
     "data": {
      "text/html": [
       "<div>\n",
       "<style scoped>\n",
       "    .dataframe tbody tr th:only-of-type {\n",
       "        vertical-align: middle;\n",
       "    }\n",
       "\n",
       "    .dataframe tbody tr th {\n",
       "        vertical-align: top;\n",
       "    }\n",
       "\n",
       "    .dataframe thead th {\n",
       "        text-align: right;\n",
       "    }\n",
       "</style>\n",
       "<table border=\"1\" class=\"dataframe\">\n",
       "  <thead>\n",
       "    <tr style=\"text-align: right;\">\n",
       "      <th></th>\n",
       "      <th>year</th>\n",
       "      <th>selling_price</th>\n",
       "      <th>km_driven</th>\n",
       "      <th>seats</th>\n",
       "    </tr>\n",
       "  </thead>\n",
       "  <tbody>\n",
       "    <tr>\n",
       "      <th>count</th>\n",
       "      <td>8128.000000</td>\n",
       "      <td>8.128000e+03</td>\n",
       "      <td>8.128000e+03</td>\n",
       "      <td>7907.000000</td>\n",
       "    </tr>\n",
       "    <tr>\n",
       "      <th>mean</th>\n",
       "      <td>2013.804011</td>\n",
       "      <td>6.382718e+05</td>\n",
       "      <td>6.981951e+04</td>\n",
       "      <td>5.416719</td>\n",
       "    </tr>\n",
       "    <tr>\n",
       "      <th>std</th>\n",
       "      <td>4.044249</td>\n",
       "      <td>8.062534e+05</td>\n",
       "      <td>5.655055e+04</td>\n",
       "      <td>0.959588</td>\n",
       "    </tr>\n",
       "    <tr>\n",
       "      <th>min</th>\n",
       "      <td>1983.000000</td>\n",
       "      <td>2.999900e+04</td>\n",
       "      <td>1.000000e+00</td>\n",
       "      <td>2.000000</td>\n",
       "    </tr>\n",
       "    <tr>\n",
       "      <th>25%</th>\n",
       "      <td>2011.000000</td>\n",
       "      <td>2.549990e+05</td>\n",
       "      <td>3.500000e+04</td>\n",
       "      <td>5.000000</td>\n",
       "    </tr>\n",
       "    <tr>\n",
       "      <th>50%</th>\n",
       "      <td>2015.000000</td>\n",
       "      <td>4.500000e+05</td>\n",
       "      <td>6.000000e+04</td>\n",
       "      <td>5.000000</td>\n",
       "    </tr>\n",
       "    <tr>\n",
       "      <th>75%</th>\n",
       "      <td>2017.000000</td>\n",
       "      <td>6.750000e+05</td>\n",
       "      <td>9.800000e+04</td>\n",
       "      <td>5.000000</td>\n",
       "    </tr>\n",
       "    <tr>\n",
       "      <th>max</th>\n",
       "      <td>2020.000000</td>\n",
       "      <td>1.000000e+07</td>\n",
       "      <td>2.360457e+06</td>\n",
       "      <td>14.000000</td>\n",
       "    </tr>\n",
       "  </tbody>\n",
       "</table>\n",
       "</div>"
      ],
      "text/plain": [
       "              year  selling_price     km_driven        seats\n",
       "count  8128.000000   8.128000e+03  8.128000e+03  7907.000000\n",
       "mean   2013.804011   6.382718e+05  6.981951e+04     5.416719\n",
       "std       4.044249   8.062534e+05  5.655055e+04     0.959588\n",
       "min    1983.000000   2.999900e+04  1.000000e+00     2.000000\n",
       "25%    2011.000000   2.549990e+05  3.500000e+04     5.000000\n",
       "50%    2015.000000   4.500000e+05  6.000000e+04     5.000000\n",
       "75%    2017.000000   6.750000e+05  9.800000e+04     5.000000\n",
       "max    2020.000000   1.000000e+07  2.360457e+06    14.000000"
      ]
     },
     "execution_count": 5,
     "metadata": {},
     "output_type": "execute_result"
    }
   ],
   "source": [
    "#Descripcion de los datos\n",
    "datos.describe()"
   ]
  },
  {
   "cell_type": "code",
   "execution_count": 6,
   "id": "ec6554f9-619e-4f29-999f-daf53519f552",
   "metadata": {},
   "outputs": [
    {
     "data": {
      "text/plain": [
       "Text(0.5, 1.0, 'Identificación de Datos Faltantes y atipicos')"
      ]
     },
     "execution_count": 6,
     "metadata": {},
     "output_type": "execute_result"
    },
    {
     "data": {
      "image/png": "[encoded data removed]",
      "text/plain": [
       "<Figure size 600x300 with 1 Axes>"
      ]
     },
     "metadata": {},
     "output_type": "display_data"
    }
   ],
   "source": [
    "#idetificacion de datos faltantes y atipicos\n",
    "\n",
    "plt.figure(figsize=(6,3)) #tamaño de figura\n",
    "sns.boxplot(x=datos['year'])\n",
    "plt.title('Identificación de Datos Faltantes y atipicos', fontsize=10) # titulo de la grafica\n"
   ]
  },
  {
   "cell_type": "code",
   "execution_count": 9,
   "id": "84c3b56f-b84c-4a90-a322-79b7ae0fd145",
   "metadata": {},
   "outputs": [
    {
     "data": {
      "text/plain": [
       "Text(0.5, 1.0, 'Identificación de Datos Faltantes y atipicos')"
      ]
     },
     "execution_count": 9,
     "metadata": {},
     "output_type": "execute_result"
    },
    {
     "data": {
      "image/png": "[encoded data removed]",
      "text/plain": [
       "<Figure size 600x300 with 1 Axes>"
      ]
     },
     "metadata": {},
     "output_type": "display_data"
    }
   ],
   "source": [
    "#idetificacion de datos faltantes y atipicos\n",
    "\n",
    "plt.figure(figsize=(6,3)) #tamaño de figura\n",
    "sns.boxplot(x=datos['km_driven'])\n",
    "plt.title('Identificación de Datos Faltantes y atipicos', fontsize=10) # titulo de la grafica\n"
   ]
  },
  {
   "cell_type": "code",
   "execution_count": 13,
   "id": "6ddf21bf-aad7-4961-a441-f3f6c3533142",
   "metadata": {},
   "outputs": [
    {
     "name": "stdout",
     "output_type": "stream",
     "text": [
      "Cantidad de registros con cero en name 0\n",
      "Cantidad de registros con cero en year) 0\n",
      "Cantidad de registros con cero en selling_price 0\n",
      "Cantidad de registros con cero en km_driven 0\n",
      "Cantidad de registros con cero en fuel 0\n",
      "Cantidad de registros con cero en seller_type 0\n",
      "Cantidad de registros con cero en transmission 0\n",
      "Cantidad de registros con cero en mileage 0\n",
      "Cantidad de registros con cero en engine 0\n",
      "Cantidad de registros con cero en max_power 0\n",
      "Cantidad de registros con cero en torque 0\n",
      "Cantidad de registros con cero en seats 0\n"
     ]
    }
   ],
   "source": [
    "# Revision de datos faltantes\n",
    "print(\"Cantidad de registros con cero en name\", datos['name'].isin([0]).sum())\n",
    "print(\"Cantidad de registros con cero en year)\", datos['year'].isin([0]).sum())\n",
    "print(\"Cantidad de registros con cero en selling_price\", datos['selling_price'].isin([0]).sum())\n",
    "print(\"Cantidad de registros con cero en km_driven\", datos['km_driven'].isin([0]).sum())\n",
    "print(\"Cantidad de registros con cero en fuel\", datos['fuel'].isin([0]).sum())\n",
    "print(\"Cantidad de registros con cero en seller_type\", datos['seller_type'].isin([0]).sum())\n",
    "print(\"Cantidad de registros con cero en transmission\", datos['transmission'].isin([0]).sum())\n",
    "print(\"Cantidad de registros con cero en mileage\", datos['mileage'].isin([0]).sum())\n",
    "print(\"Cantidad de registros con cero en engine\", datos['engine'].isin([0]).sum())\n",
    "print(\"Cantidad de registros con cero en max_power\", datos['max_power'].isin([0]).sum())\n",
    "print(\"Cantidad de registros con cero en torque\", datos['torque'].isin([0]).sum())\n",
    "print(\"Cantidad de registros con cero en seats\", datos['seats'].isin([0]).sum())\n"
   ]
  },
  {
   "cell_type": "code",
   "execution_count": null,
   "id": "b8cddcbb-b64f-4350-9948-cb14599a1344",
   "metadata": {},
   "outputs": [],
   "source": [
    "# No se identifican datos faltantes en el actual dataset"
   ]
  },
  {
   "cell_type": "code",
   "execution_count": 14,
   "id": "83ecb31f-d373-44a2-b27b-c66c1a56b184",
   "metadata": {},
   "outputs": [
    {
     "data": {
      "text/plain": [
       "Text(0.5, 1.0, 'Identificación de Datos Atipicos')"
      ]
     },
     "execution_count": 14,
     "metadata": {},
     "output_type": "execute_result"
    },
    {
     "data": {
      "image/png": "[encoded data removed]",
      "text/plain": [
       "<Figure size 600x300 with 1 Axes>"
      ]
     },
     "metadata": {},
     "output_type": "display_data"
    }
   ],
   "source": [
    "#Identificación de datos Atipicos\n",
    "\n",
    "\n",
    "plt.figure(figsize=(6,3)) #tamaño de figura\n",
    "sns.boxplot(x=datos['year'])\n",
    "plt.title('Identificación de Datos Atipicos', fontsize=10) # titulo de la grafica"
   ]
  },
  {
   "cell_type": "code",
   "execution_count": 20,
   "id": "05a8dd47-afe5-4fa6-a8cf-468d1e017c8c",
   "metadata": {},
   "outputs": [
    {
     "name": "stdout",
     "output_type": "stream",
     "text": [
      "El total de datos atípicos es 1\n"
     ]
    }
   ],
   "source": [
    "#conteo de datos atipicos\n",
    "minimo=1990\n",
    "maximo=2024\n",
    "atipicos=((datos['year']<minimo)|(datos['year']>maximo)).sum()\n",
    "print(\"El total de datos atípicos es {}\".format(atipicos))"
   ]
  },
  {
   "cell_type": "code",
   "execution_count": 25,
   "id": "56e725a9-48ab-4b10-b9e0-017bcac84e3b",
   "metadata": {},
   "outputs": [],
   "source": [
    "# filtrar datos atipicos\n",
    "datos=datos[(datos['year']<maximo)&(datos['year']>minimo)]"
   ]
  },
  {
   "cell_type": "code",
   "execution_count": 22,
   "id": "8d518d56-e5e6-4129-b2a1-00185a3aa368",
   "metadata": {},
   "outputs": [
    {
     "name": "stdout",
     "output_type": "stream",
     "text": [
      "El total de datos atípicos es 0\n"
     ]
    }
   ],
   "source": [
    "#validar si se removieron los datos atipicos\n",
    "atipicos=((datos['year']<minimo)|(datos['year']>maximo)).sum()\n",
    "print(\"El total de datos atípicos es {}\".format(atipicos))"
   ]
  },
  {
   "cell_type": "code",
   "execution_count": 26,
   "id": "7ee51aa0-d3cb-42b8-8b81-59a2f25aa375",
   "metadata": {},
   "outputs": [
    {
     "name": "stdout",
     "output_type": "stream",
     "text": [
      "<class 'pandas.core.frame.DataFrame'>\n",
      "Index: 8127 entries, 0 to 8127\n",
      "Data columns (total 13 columns):\n",
      " #   Column         Non-Null Count  Dtype  \n",
      "---  ------         --------------  -----  \n",
      " 0   name           8127 non-null   object \n",
      " 1   year           8127 non-null   int64  \n",
      " 2   selling_price  8127 non-null   int64  \n",
      " 3   km_driven      8127 non-null   int64  \n",
      " 4   fuel           8127 non-null   object \n",
      " 5   seller_type    8127 non-null   object \n",
      " 6   transmission   8127 non-null   object \n",
      " 7   owner          8127 non-null   object \n",
      " 8   mileage        7907 non-null   object \n",
      " 9   engine         7907 non-null   object \n",
      " 10  max_power      7913 non-null   object \n",
      " 11  torque         7906 non-null   object \n",
      " 12  seats          7907 non-null   float64\n",
      "dtypes: float64(1), int64(3), object(9)\n",
      "memory usage: 888.9+ KB\n"
     ]
    }
   ],
   "source": [
    "#Revisión del tipo de datos y datos faltantes\n",
    "datos.info()"
   ]
  },
  {
   "cell_type": "code",
   "execution_count": 32,
   "id": "9cf8cdaf-71b8-4125-b3d9-019f54a31890",
   "metadata": {},
   "outputs": [
    {
     "data": {
      "text/plain": [
       "selling_price\n",
       "300000     226\n",
       "600000     213\n",
       "350000     209\n",
       "550000     204\n",
       "450000     195\n",
       "          ... \n",
       "308000       1\n",
       "3900000      1\n",
       "2850000      1\n",
       "39000        1\n",
       "746000       1\n",
       "Name: count, Length: 677, dtype: int64"
      ]
     },
     "execution_count": 32,
     "metadata": {},
     "output_type": "execute_result"
    }
   ],
   "source": [
    "# variable de precios de los carros\n",
    "datos['selling_price'].value_counts()"
   ]
  },
  {
   "cell_type": "code",
   "execution_count": 144,
   "id": "80a43d23-60a5-4fa5-8e08-e3efdb37206e",
   "metadata": {},
   "outputs": [
    {
     "name": "stdout",
     "output_type": "stream",
     "text": [
      "                                         name  year  km_driven    fuel  \\\n",
      "4313                        Hyundai i10 Magna  2012      40000  Petrol   \n",
      "5178       Mercedes-Benz New C-Class 200 K AT  2007     120000  Petrol   \n",
      "758                        Hyundai EON D Lite  2013      80000  Petrol   \n",
      "7117  Chevrolet Tavera Neo 3 LT 9 Seats BSIII  2016     100000  Diesel   \n",
      "2606                         Maruti Swift VDI  2013      77000  Diesel   \n",
      "...                                       ...   ...        ...     ...   \n",
      "4931    Tata Manza Aura (ABS) Quadrajet BS IV  2012      70000  Diesel   \n",
      "3264                     Ford Figo Diesel EXI  2012     100000  Diesel   \n",
      "1653                Hyundai i10 Sportz Option  2009      90000  Petrol   \n",
      "2607         Volkswagen Vento Diesel Highline  2012      90000  Diesel   \n",
      "2732                   Hyundai i10 Magna 1.1L  2012     110000  Petrol   \n",
      "\n",
      "     seller_type transmission         owner     mileage   engine  max_power  \\\n",
      "4313  Individual       Manual   First Owner  20.36 kmpl  1197 CC   78.9 bhp   \n",
      "5178  Individual    Automatic   First Owner   11.7 kmpl  1796 CC    178 bhp   \n",
      "758   Individual       Manual  Second Owner   21.1 kmpl   814 CC   55.2 bhp   \n",
      "7117  Individual       Manual   First Owner  13.58 kmpl  2499 CC   72.4 bhp   \n",
      "2606  Individual       Manual   First Owner   22.9 kmpl  1248 CC     74 bhp   \n",
      "...          ...          ...           ...         ...      ...        ...   \n",
      "4931  Individual       Manual   Third Owner  21.12 kmpl  1248 CC   88.8 bhp   \n",
      "3264  Individual       Manual  Second Owner   20.0 kmpl  1399 CC     68 bhp   \n",
      "1653  Individual       Manual  Second Owner  20.36 kmpl  1197 CC   78.9 bhp   \n",
      "2607  Individual       Manual   First Owner  20.54 kmpl  1598 CC  103.6 bhp   \n",
      "2732  Individual       Manual   First Owner  19.81 kmpl  1086 CC  68.05 bhp   \n",
      "\n",
      "                           torque  seats  \n",
      "4313             111.7Nm@ 4000rpm    5.0  \n",
      "5178  24.5@ 3,500-4,500(kgm@ rpm)    5.0  \n",
      "758               74.5Nm@ 4000rpm    5.0  \n",
      "7117               171Nm@ 1800rpm    9.0  \n",
      "2606               190Nm@ 2000rpm    5.0  \n",
      "...                           ...    ...  \n",
      "4931          200Nm@ 1750-3000rpm    5.0  \n",
      "3264               160Nm@ 2000rpm    5.0  \n",
      "1653             111.8Nm@ 4000rpm    5.0  \n",
      "2607          250Nm@ 1500-2500rpm    5.0  \n",
      "2732             99.04Nm@ 4500rpm    5.0  \n",
      "\n",
      "[6096 rows x 12 columns]\n"
     ]
    }
   ],
   "source": [
    "# Porcentaje de datos para entrenamiento (train) = 75% , y para prueba (test) = 25%\n",
    "# se crean variables X y Y para almacenar la información del entrenamiento\n",
    "\n",
    "X = datos.drop('selling_price',axis=1) \n",
    "Y = datos['selling_price'] \n",
    "\n",
    "#La función train_test_split crea una división de un conjunto de datos en dos bloques uno de entrenamiento y otro de prueba (train and test)\n",
    "X_train, X_test, Y_train, Y_test = train_test_split(X, Y, test_size=0.25, random_state= 0)\n",
    "\n",
    "#impresion de resultados X_train\n",
    "print (X_train)"
   ]
  },
  {
   "cell_type": "code",
   "execution_count": 173,
   "id": "c5cc34a5-8890-40c2-a6b5-a483d7306fc5",
   "metadata": {},
   "outputs": [
    {
     "name": "stdout",
     "output_type": "stream",
     "text": [
      "4313    267000\n",
      "5178    500000\n",
      "758     200000\n",
      "7117    900000\n",
      "2606    375000\n",
      "         ...  \n",
      "4931    300000\n",
      "3264    220000\n",
      "1653    170000\n",
      "2607    375000\n",
      "2732    225000\n",
      "Name: selling_price, Length: 6096, dtype: int64\n"
     ]
    }
   ],
   "source": [
    "#impresion de resultados Y_train\n",
    "print (Y_train)"
   ]
  },
  {
   "cell_type": "code",
   "execution_count": 152,
   "id": "8cf9214d-b838-4d76-af02-23ea60667a74",
   "metadata": {},
   "outputs": [
    {
     "name": "stdout",
     "output_type": "stream",
     "text": [
      "3558     345000\n",
      "233      900000\n",
      "7952     475000\n",
      "572      120000\n",
      "6960    5150000\n",
      "         ...   \n",
      "2761      70000\n",
      "1487     160000\n",
      "4284     350000\n",
      "5698     380000\n",
      "4643     260000\n",
      "Name: selling_price, Length: 2032, dtype: int64\n"
     ]
    }
   ],
   "source": [
    "# Combina los conjuntos de datos de entrenamiento y prueba\n",
    "X_combined = pd.concat([X_train, X_test], axis=0)\n",
    "\n",
    "# Ajusta y transforma las características categóricas en el conjunto combinado\n",
    "X_combined_encoded = encoder.fit_transform(X_combined)\n",
    "\n",
    "# Divide el conjunto combinado nuevamente en conjuntos de entrenamiento y prueba\n",
    "X_train_encoded = X_combined_encoded[:len(X_train)]\n",
    "X_test_encoded = X_combined_encoded[len(X_train):]\n",
    "\n",
    "# Construir el modelo de regresión lineal\n",
    "regresion = LinearRegression()\n",
    "regresion.fit(X_train_encoded, Y_train)\n",
    "\n",
    "# Realiza predicciones en el conjunto de prueba\n",
    "prediccion = regresion.predict(X_test_encoded)\n",
    "\n",
    "#impresion de resultados\n",
    "print(Y_test)\n"
   ]
  },
  {
   "cell_type": "code",
   "execution_count": 154,
   "id": "29f29fc3-3461-4707-a0b4-c149690ec495",
   "metadata": {},
   "outputs": [
    {
     "name": "stdout",
     "output_type": "stream",
     "text": [
      "[ 354897.67918661 1184716.25426756  474975.93887681 ...  176901.87516414\n",
      "  337991.10856665  149571.37384542]\n"
     ]
    }
   ],
   "source": [
    "#impresion de resultados de prediccion\n",
    "print(prediccion)"
   ]
  },
  {
   "cell_type": "code",
   "execution_count": 164,
   "id": "9e714d2f-26b0-4450-91f3-c83e7207db94",
   "metadata": {},
   "outputs": [
    {
     "name": "stdout",
     "output_type": "stream",
     "text": [
      "Error cuadrático medio: 70715440156.93329\n",
      "Coeficiente de determinación (R cuadrado): 0.892916628141601\n"
     ]
    }
   ],
   "source": [
    "#Desempeño del modelo de regresion\n",
    "# Calcula el error cuadrático medio\n",
    "mse = mean_squared_error(Y_test, prediccion)\n",
    "print(\"Error cuadrático medio:\", mse)\n",
    "\n",
    "# Calcular el coeficiente de determinación (R cuadrado)\n",
    "r2 = r2_score(Y_test, prediccion)\n",
    "print(\"Coeficiente de determinación (R cuadrado):\", r2)\n"
   ]
  },
  {
   "cell_type": "code",
   "execution_count": 172,
   "id": "f6d03a81-2579-4ff7-be2d-615400f224f4",
   "metadata": {},
   "outputs": [
    {
     "data": {
      "image/png": "[encoded data removed]",
      "text/plain": [
       "<Figure size 640x480 with 1 Axes>"
      ]
     },
     "metadata": {},
     "output_type": "display_data"
    }
   ],
   "source": [
    "#grafica de regresion lineal\n",
    "sns.regplot(x=prediccion, y=Y_test)\n",
    "plt.title(\"Actual vs Predicción\", fontsize=20)\n",
    "plt.xlabel(\"Predicción\")\n",
    "plt.ylabel('Precio actual')\n",
    "plt.show()"
   ]
  },
  {
   "cell_type": "code",
   "execution_count": null,
   "id": "543e825e-f5a0-429e-9962-f51a4a7dbe6e",
   "metadata": {},
   "outputs": [],
   "source": []
  }
 ],
 "metadata": {
  "kernelspec": {
   "display_name": "Python 3 (ipykernel)",
   "language": "python",
   "name": "python3"
  },
  "language_info": {
   "codemirror_mode": {
    "name": "ipython",
    "version": 3
   },
   "file_extension": ".py",
   "mimetype": "text/x-python",
   "name": "python",
   "nbconvert_exporter": "python",
   "pygments_lexer": "ipython3",
   "version": "3.11.7"
  }
 },
 "nbformat": 4,
 "nbformat_minor": 5
}
